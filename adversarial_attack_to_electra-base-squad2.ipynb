{
 "cells": [
  {
   "cell_type": "markdown",
   "id": "38d7394e",
   "metadata": {},
   "source": [
    "This notebook performs an evaluation of various adversarial attacks on an ELECTRA-based question-answering model fine-tuned on the SQuAD 2.0 dataset. "
   ]
  },
  {
   "cell_type": "markdown",
   "id": "a06bd477",
   "metadata": {},
   "source": [
    "### Libraries loading\n",
    "\n",
    "Imports necessary libraries for natural language processing, machine learning, and data manipulation."
   ]
  },
  {
   "cell_type": "code",
   "execution_count": 1,
   "id": "3d6201c4",
   "metadata": {},
   "outputs": [],
   "source": [
    "import json\n",
    "import random\n",
    "from transformers import AutoModelForQuestionAnswering, AutoTokenizer\n",
    "import torch\n",
    "from tqdm import tqdm\n",
    "import pandas as pd\n",
    "import nltk\n",
    "from nltk.translate.bleu_score import sentence_bleu\n",
    "from nltk.tokenize import word_tokenize\n",
    "from collections import Counter\n",
    "import spacy"
   ]
  },
  {
   "cell_type": "code",
   "execution_count": 2,
   "id": "b8771ebd",
   "metadata": {},
   "outputs": [],
   "source": [
    "# Load spaCy for grammatical error detection\n",
    "spacy.prefer_gpu()\n",
    "nlp = spacy.load(\"en_core_web_sm\")"
   ]
  },
  {
   "cell_type": "code",
   "execution_count": 3,
   "id": "6be08c6a",
   "metadata": {},
   "outputs": [
    {
     "name": "stderr",
     "output_type": "stream",
     "text": [
      "[nltk_data] Downloading package punkt to\n",
      "[nltk_data]     /Users/ferhatsarikaya/nltk_data...\n",
      "[nltk_data]   Package punkt is already up-to-date!\n"
     ]
    },
    {
     "data": {
      "text/plain": [
       "True"
      ]
     },
     "execution_count": 3,
     "metadata": {},
     "output_type": "execute_result"
    }
   ],
   "source": [
    "# Download necessary NLTK data\n",
    "nltk.download('punkt')"
   ]
  },
  {
   "cell_type": "markdown",
   "id": "ec3a3ff9",
   "metadata": {},
   "source": [
    "### Model and tokenizer loading\n",
    "\n",
    "It loads a pre-trained ELECTRA model and tokenizer fine-tuned on SQuAD 2.0."
   ]
  },
  {
   "cell_type": "code",
   "execution_count": 4,
   "id": "99fc93fc",
   "metadata": {},
   "outputs": [
    {
     "data": {
      "application/vnd.jupyter.widget-view+json": {
       "model_id": "fc42e11e18f74d37a83cd4819edec56f",
       "version_major": 2,
       "version_minor": 0
      },
      "text/plain": [
       "model.safetensors:   0%|          | 0.00/436M [00:00<?, ?B/s]"
      ]
     },
     "metadata": {},
     "output_type": "display_data"
    },
    {
     "data": {
      "application/vnd.jupyter.widget-view+json": {
       "model_id": "ef2c1501ae1a49e7a8bd80dfd509c519",
       "version_major": 2,
       "version_minor": 0
      },
      "text/plain": [
       "tokenizer_config.json:   0%|          | 0.00/200 [00:00<?, ?B/s]"
      ]
     },
     "metadata": {},
     "output_type": "display_data"
    },
    {
     "data": {
      "application/vnd.jupyter.widget-view+json": {
       "model_id": "0e59dc6349954ca6be80d10607fbcd0c",
       "version_major": 2,
       "version_minor": 0
      },
      "text/plain": [
       "vocab.txt:   0%|          | 0.00/232k [00:00<?, ?B/s]"
      ]
     },
     "metadata": {},
     "output_type": "display_data"
    },
    {
     "data": {
      "application/vnd.jupyter.widget-view+json": {
       "model_id": "f0f1c47db7254567930f0297c763308b",
       "version_major": 2,
       "version_minor": 0
      },
      "text/plain": [
       "special_tokens_map.json:   0%|          | 0.00/112 [00:00<?, ?B/s]"
      ]
     },
     "metadata": {},
     "output_type": "display_data"
    }
   ],
   "source": [
    "# Load model and tokenizer\n",
    "model = AutoModelForQuestionAnswering.from_pretrained('deepset/electra-base-squad2')\n",
    "tokenizer = AutoTokenizer.from_pretrained('deepset/electra-base-squad2')\n"
   ]
  },
  {
   "cell_type": "markdown",
   "id": "98758b51",
   "metadata": {},
   "source": [
    "### Data loading function\n",
    "\n",
    "load_squad_data() reads JSON files containing SQuAD-format data."
   ]
  },
  {
   "cell_type": "code",
   "execution_count": 5,
   "id": "7e8433bd",
   "metadata": {},
   "outputs": [],
   "source": [
    "def load_squad_data(file_path):\n",
    "    with open(file_path, 'r', encoding='utf-8') as f:\n",
    "        data = json.load(f)\n",
    "    return data['data']"
   ]
  },
  {
   "cell_type": "markdown",
   "id": "ef031c55",
   "metadata": {},
   "source": [
    "### Answer prediction\n",
    "\n",
    "get_answer() uses the ELECTRA model to predict answers for given questions and contexts."
   ]
  },
  {
   "cell_type": "code",
   "execution_count": 6,
   "id": "47a9ab0e",
   "metadata": {},
   "outputs": [],
   "source": [
    "def get_answer(question, context):\n",
    "    inputs = tokenizer.encode_plus(question, context, add_special_tokens=True, return_tensors=\"pt\", max_length=512, truncation=True)\n",
    "    input_ids = inputs[\"input_ids\"].tolist()[0]\n",
    "\n",
    "    outputs = model(**inputs)\n",
    "    \n",
    "    answer_start = torch.argmax(outputs.start_logits)\n",
    "    answer_end = torch.argmax(outputs.end_logits) + 1\n",
    "\n",
    "    answer = tokenizer.convert_tokens_to_string(tokenizer.convert_ids_to_tokens(input_ids[answer_start:answer_end]))\n",
    "    return answer"
   ]
  },
  {
   "cell_type": "markdown",
   "id": "68dbf80e",
   "metadata": {},
   "source": [
    "### Evaluation metrics\n",
    "\n",
    "calculate_f1_score(): Calculates the F1 score between predicted and ground truth answers.<br />\n",
    "calculate_bleu_score(): Computes the BLEU score for predicted answers. <br />\n",
    "count_grammatical_errors(): Estimates grammatical errors in predicted answers using spaCy."
   ]
  },
  {
   "cell_type": "code",
   "execution_count": 7,
   "id": "d2ba5b28",
   "metadata": {},
   "outputs": [],
   "source": [
    "def calculate_f1_score(prediction, ground_truth):\n",
    "    prediction_tokens = word_tokenize(prediction.lower())\n",
    "    ground_truth_tokens = word_tokenize(ground_truth.lower())\n",
    "    \n",
    "    common = Counter(prediction_tokens) & Counter(ground_truth_tokens)\n",
    "    num_same = sum(common.values())\n",
    "    \n",
    "    if num_same == 0:\n",
    "        return 0\n",
    "    \n",
    "    precision = 1.0 * num_same / len(prediction_tokens)\n",
    "    recall = 1.0 * num_same / len(ground_truth_tokens)\n",
    "    f1 = (2 * precision * recall) / (precision + recall)\n",
    "    return f1"
   ]
  },
  {
   "cell_type": "code",
   "execution_count": 8,
   "id": "abdb3dc6",
   "metadata": {},
   "outputs": [],
   "source": [
    "def calculate_bleu_score(prediction, ground_truth):\n",
    "    return sentence_bleu([word_tokenize(ground_truth.lower())], word_tokenize(prediction.lower()))\n"
   ]
  },
  {
   "cell_type": "code",
   "execution_count": 9,
   "id": "9fa02148",
   "metadata": {},
   "outputs": [],
   "source": [
    "def count_grammatical_errors(text):\n",
    "    doc = nlp(text)\n",
    "    return len([token for token in doc if token.dep_ == 'ROOT']) - 1  # A rough estimate of grammatical errors\n"
   ]
  },
  {
   "cell_type": "markdown",
   "id": "994a3aad",
   "metadata": {},
   "source": [
    "### Main evaluation function\n",
    "\n",
    "evaluate_attack() processes the dataset, generates predictions, and calculates various metrics for each question-answer pair."
   ]
  },
  {
   "cell_type": "code",
   "execution_count": 10,
   "id": "09b9a042",
   "metadata": {},
   "outputs": [],
   "source": [
    "def evaluate_attack(data, attack_name):\n",
    "    results = []\n",
    "    for article in tqdm(data, desc=f\"Evaluating {attack_name}\"):\n",
    "        for paragraph in article['paragraphs']:\n",
    "            context = paragraph['context']\n",
    "            for qa in paragraph['qas']:\n",
    "                question = qa['question']\n",
    "                if qa['answers']:\n",
    "                    ground_truth = qa['answers'][0]['text']\n",
    "                    predicted_answer = get_answer(question, context)\n",
    "                    \n",
    "                    # Check if the ground truth is in the truncated context\n",
    "                    if ground_truth not in context[:512]:\n",
    "                        continue  # Skip this example as the answer is not in the truncated context\n",
    "                    \n",
    "                    exact_match = predicted_answer.lower() == ground_truth.lower()\n",
    "                    f1_score = calculate_f1_score(predicted_answer, ground_truth)\n",
    "                    bleu_score = calculate_bleu_score(predicted_answer, ground_truth)\n",
    "                    grammatical_errors = count_grammatical_errors(predicted_answer)\n",
    "                    \n",
    "                    results.append({\n",
    "                        'attack': attack_name,\n",
    "                        'question': question,\n",
    "                        'context': context[:512],  # Truncate context for storage\n",
    "                        'ground_truth': ground_truth,\n",
    "                        'predicted_answer': predicted_answer,\n",
    "                        'exact_match': exact_match,\n",
    "                        'f1_score': f1_score,\n",
    "                        'bleu_score': bleu_score,\n",
    "                        'grammatical_errors': grammatical_errors\n",
    "                    })\n",
    "    return results"
   ]
  },
  {
   "cell_type": "markdown",
   "id": "091edc81",
   "metadata": {},
   "source": [
    "### Attack evaluation loop\n",
    "\n",
    "The script iterates through different adversarial attack datasets (AddAny, AddSent, CEIA, DPAEG, TextFooler), evaluating the model's performance on each.<br /><br />\n",
    "Results for all attacks are collected in a list and then converted to a pandas DataFrame. After that, saves detailed results to a CSV file named \"electra-base-squad2_adversarial_attack_results.csv\"."
   ]
  },
  {
   "cell_type": "code",
   "execution_count": 11,
   "id": "61df43a2",
   "metadata": {},
   "outputs": [
    {
     "name": "stderr",
     "output_type": "stream",
     "text": [
      "Evaluating AddAny:   0%|                                | 0/442 [00:00<?, ?it/s]/Users/ferhatsarikaya/miniforge3/envs/new_tf_env/lib/python3.9/site-packages/nltk/translate/bleu_score.py:552: UserWarning: \n",
      "The hypothesis contains 0 counts of 4-gram overlaps.\n",
      "Therefore the BLEU score evaluates to 0, independently of\n",
      "how many N-gram overlaps of lower order it contains.\n",
      "Consider using lower n-gram order or use SmoothingFunction()\n",
      "  warnings.warn(_msg)\n",
      "/Users/ferhatsarikaya/miniforge3/envs/new_tf_env/lib/python3.9/site-packages/nltk/translate/bleu_score.py:552: UserWarning: \n",
      "The hypothesis contains 0 counts of 3-gram overlaps.\n",
      "Therefore the BLEU score evaluates to 0, independently of\n",
      "how many N-gram overlaps of lower order it contains.\n",
      "Consider using lower n-gram order or use SmoothingFunction()\n",
      "  warnings.warn(_msg)\n",
      "/Users/ferhatsarikaya/miniforge3/envs/new_tf_env/lib/python3.9/site-packages/nltk/translate/bleu_score.py:552: UserWarning: \n",
      "The hypothesis contains 0 counts of 2-gram overlaps.\n",
      "Therefore the BLEU score evaluates to 0, independently of\n",
      "how many N-gram overlaps of lower order it contains.\n",
      "Consider using lower n-gram order or use SmoothingFunction()\n",
      "  warnings.warn(_msg)\n",
      "Evaluating AddAny: 100%|████████████████████| 442/442 [2:51:57<00:00, 23.34s/it]\n",
      "Evaluating AddSent: 100%|███████████████████| 442/442 [2:44:37<00:00, 22.35s/it]\n",
      "Evaluating CEIA: 100%|██████████████████████| 442/442 [2:35:47<00:00, 21.15s/it]\n",
      "Evaluating DPAEG: 100%|█████████████████████| 442/442 [2:43:00<00:00, 22.13s/it]\n",
      "Evaluating TextFooler: 100%|████████████████| 442/442 [2:50:22<00:00, 23.13s/it]\n"
     ]
    }
   ],
   "source": [
    "# List of attack files\n",
    "attack_files = [\n",
    "    (\"SQuAD/squad-v2.0-addany.json\", \"AddAny\"),\n",
    "    (\"SQuAD/squad-v2.0-addsent.json\", \"AddSent\"),\n",
    "    (\"SQuAD/squad-v2.0-CEIA.json\", \"CEIA\"),\n",
    "    (\"SQuAD/squad-v2.0-dpaeg.json\", \"DPAEG\"),\n",
    "    (\"SQuAD/squad-v2.0-textfooler.json\", \"TextFooler\")\n",
    "]\n",
    "\n",
    "all_results = []\n",
    "\n",
    "for file_path, attack_name in attack_files:\n",
    "    data = load_squad_data(file_path)\n",
    "    results = evaluate_attack(data, attack_name)\n",
    "    all_results.extend(results)\n",
    "\n",
    "# Save results to CSV\n",
    "df = pd.DataFrame(all_results)\n",
    "df.to_csv(\"electra-base-squad2_adversarial_attack_results.csv\", index=False)\n"
   ]
  },
  {
   "cell_type": "markdown",
   "id": "4736673a",
   "metadata": {},
   "source": [
    "### Summaries\n",
    "\n",
    "Calculates and prints summary statistics for each attack type. After that, save the summary statistics to another CSV file named \"electra-base-squad2_adversarial_attack_summary.csv\"."
   ]
  },
  {
   "cell_type": "code",
   "execution_count": 12,
   "id": "4b7db679",
   "metadata": {},
   "outputs": [
    {
     "name": "stdout",
     "output_type": "stream",
     "text": [
      "            Exact Match  F1 Score  BLEU Score  Avg Grammatical Errors  \\\n",
      "attack                                                                  \n",
      "AddAny         0.809581  0.887708    0.212839                0.037795   \n",
      "AddSent        0.805431  0.884460    0.210867                0.037118   \n",
      "CEIA           0.902246  0.919227    0.171513                0.029635   \n",
      "DPAEG          0.755072  0.791677    0.142249                0.084516   \n",
      "TextFooler     0.466026  0.530060    0.084597                0.187982   \n",
      "\n",
      "            Sample Size  \n",
      "attack                   \n",
      "AddAny            67945  \n",
      "AddSent           67945  \n",
      "CEIA              56724  \n",
      "DPAEG             56143  \n",
      "TextFooler        54351  \n"
     ]
    }
   ],
   "source": [
    "# Calculate and print summary statistics\n",
    "summary = df.groupby('attack').agg({\n",
    "    'exact_match': 'mean',\n",
    "    'f1_score': 'mean',\n",
    "    'bleu_score': 'mean',\n",
    "    'grammatical_errors': 'mean',\n",
    "    'attack': 'count'\n",
    "})\n",
    "summary.columns = ['Exact Match', 'F1 Score', 'BLEU Score', 'Avg Grammatical Errors', 'Sample Size']\n",
    "print(summary)\n",
    "\n",
    "# Save summary to CSV\n",
    "summary.to_csv(\"electra-base-squad2_adversarial_attack_summary.csv\")"
   ]
  },
  {
   "cell_type": "code",
   "execution_count": null,
   "id": "bc2b2b4e",
   "metadata": {},
   "outputs": [],
   "source": []
  }
 ],
 "metadata": {
  "kernelspec": {
   "display_name": "Python 3.8 (new_tf)",
   "language": "python",
   "name": "yeni_ortam"
  },
  "language_info": {
   "codemirror_mode": {
    "name": "ipython",
    "version": 3
   },
   "file_extension": ".py",
   "mimetype": "text/x-python",
   "name": "python",
   "nbconvert_exporter": "python",
   "pygments_lexer": "ipython3",
   "version": "3.9.19"
  }
 },
 "nbformat": 4,
 "nbformat_minor": 5
}
