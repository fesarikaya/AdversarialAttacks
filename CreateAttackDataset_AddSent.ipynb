{
 "cells": [
  {
   "cell_type": "markdown",
   "id": "3a39ccb3",
   "metadata": {},
   "source": [
    "The purpose of this notebook is to create an adversarial version of the SQuAD (Stanford Question Answering Dataset) v2.0 dataset using the <b>AddSent</b> attack method. This attack adds a single adversarial sentence to the end of each context paragraph. The key features of this attack are:<br />\n",
    "\n",
    "<b>Relevance:</b> The adversarial sentence is related to the content of the paragraph, as it uses key words from one of the questions.<br />\n",
    "<b>Distraction:</b> The sentence is designed to be misleading, typically stating that a key concept is not related to the answer or context.<br />\n",
    "<b>Consistency:</b> Only one adversarial sentence is added per paragraph, affecting all questions for that paragraph.<br /><br />\n",
    "\n",
    "The goals of this adversarial dataset are to:\n",
    "<ul>\n",
    "    <li>Test the robustness of question-answering models against misleading information.</li>\n",
    "    <li>Evaluate how well models can distinguish between relevant and irrelevant information, even when the irrelevant information seems related to the question.</li>\n",
    "    <li>Provide a more challenging dataset for training and evaluating question-answering systems.</li>\n",
    "</ul>\n",
    "\n",
    "This type of attack is more sophisticated than simply adding random sentences (like in the AddAny attack) because it creates semantically relevant but misleading content. It challenges models to not only comprehend the text but also to reason about the relevance and truthfulness of information in the context of specific questions.<br /><br />\n",
    "\n",
    "The notebook ensures that the original question-answer pairs remain valid by updating their positions in the new, longer contexts. This allows for a direct comparison between model performance on the original and adversarial datasets."
   ]
  },
  {
   "cell_type": "markdown",
   "id": "301d670c",
   "metadata": {},
   "source": [
    "### Loading libraries\n",
    "\n",
    "Imports necessary libraries for JSON processing, random selection, NLP tasks (spaCy), file handling, and progress tracking."
   ]
  },
  {
   "cell_type": "code",
   "execution_count": 1,
   "id": "a2aa8933",
   "metadata": {},
   "outputs": [],
   "source": [
    "import json\n",
    "import random\n",
    "import spacy\n",
    "import os\n",
    "from tqdm import tqdm"
   ]
  },
  {
   "cell_type": "markdown",
   "id": "09df486f",
   "metadata": {},
   "source": [
    "### SpaCy model loading\n",
    "\n",
    "It loads the SpaCy English language model, preferring GPU if available."
   ]
  },
  {
   "cell_type": "code",
   "execution_count": 2,
   "id": "951b0924",
   "metadata": {},
   "outputs": [],
   "source": [
    "# Load spaCy model\n",
    "spacy.prefer_gpu()\n",
    "nlp = spacy.load(\"en_core_web_sm\")"
   ]
  },
  {
   "cell_type": "markdown",
   "id": "e6b0b40b",
   "metadata": {},
   "source": [
    "### generate_adversarial_sentence() function\n",
    "Selects a random question-answer pair from the given set.<br />\n",
    "Extracts key words (nouns, verbs, and adjectives) from the question using spaCy.<br />\n",
    "Generates a distracting sentence based on these key words and the answer.<br />\n",
    "For questions without answers (in SQuAD v2.0), it creates a general distracting sentence."
   ]
  },
  {
   "cell_type": "code",
   "execution_count": 3,
   "id": "5934faf1",
   "metadata": {},
   "outputs": [],
   "source": [
    "def generate_adversarial_sentence(qas):\n",
    "    # Choose a random question-answer pair to base the adversarial sentence on\n",
    "    qa = random.choice(qas)\n",
    "    question = qa['question']\n",
    "    answer = qa['answers'][0]['text'] if qa['answers'] else \"\"\n",
    "\n",
    "    doc = nlp(question)\n",
    "    key_words = [token.text for token in doc if token.pos_ in ['NOUN', 'VERB', 'ADJ']]\n",
    "    if not key_words:\n",
    "        key_words = [token.text for token in doc if token.pos_ != 'PUNCT']\n",
    "    \n",
    "    if answer:\n",
    "        distracting_sentence = f\"However, {random.choice(key_words)} is not related to {answer}.\"\n",
    "    else:\n",
    "        distracting_sentence = f\"However, {random.choice(key_words)} is not relevant to this context.\"\n",
    "    \n",
    "    return distracting_sentence"
   ]
  },
  {
   "cell_type": "markdown",
   "id": "611968f4",
   "metadata": {},
   "source": [
    "### process_squad_file() function\n",
    "\n",
    "Reads the input SQuAD JSON file.<br />\n",
    "Processes each article and paragraph in the dataset.<br />\n",
    "For each paragraph:\n",
    "<ul>\n",
    "    <li>Generates one adversarial sentence using generate_adversarial_sentence().</li>\n",
    "    <li>Appends this sentence to the original context to create an adversarial context.</li>\n",
    "    <li>Updates the answer start positions for all QA pairs in the paragraph.</li>\n",
    "</ul>\n",
    "\n",
    "Creates a new JSON structure with the modified data.<br />\n",
    "Writes this new structure to the output file."
   ]
  },
  {
   "cell_type": "code",
   "execution_count": 4,
   "id": "e00f7a7f",
   "metadata": {},
   "outputs": [],
   "source": [
    "def process_squad_file(input_file, output_file):\n",
    "    with open(input_file, 'r', encoding='utf-8') as f:\n",
    "        data = json.load(f)\n",
    "\n",
    "    new_data = {\"version\": \"v2.0\", \"data\": []}\n",
    "\n",
    "    for article in tqdm(data['data'], desc=\"Processing articles\"):\n",
    "        new_article = {\"title\": article['title'], \"paragraphs\": []}\n",
    "        \n",
    "        for paragraph in article['paragraphs']:\n",
    "            context = paragraph['context']\n",
    "            new_qas = []\n",
    "            \n",
    "            # Generate one adversarial sentence for the entire paragraph\n",
    "            adv_sentence = generate_adversarial_sentence(paragraph['qas'])\n",
    "            \n",
    "            # Create adversarial context\n",
    "            adv_context = context + \" \" + adv_sentence\n",
    "            \n",
    "            for qa in paragraph['qas']:\n",
    "                new_qa = qa.copy()\n",
    "                if new_qa['answers']:\n",
    "                    # Update answer start position in the new context\n",
    "                    answer = new_qa['answers'][0]['text']\n",
    "                    answer_start = adv_context.index(answer)\n",
    "                    new_qa['answers'][0]['answer_start'] = answer_start\n",
    "                \n",
    "                new_qas.append(new_qa)\n",
    "            \n",
    "            new_paragraph = {\n",
    "                \"context\": adv_context,\n",
    "                \"qas\": new_qas\n",
    "            }\n",
    "            new_article['paragraphs'].append(new_paragraph)\n",
    "        \n",
    "        new_data['data'].append(new_article)\n",
    "\n",
    "    with open(output_file, 'w', encoding='utf-8') as f:\n",
    "        json.dump(new_data, f, ensure_ascii=False, indent=2)"
   ]
  },
  {
   "cell_type": "markdown",
   "id": "b2904911",
   "metadata": {},
   "source": [
    "### Main execution\n",
    "Sets the input file path to \"SQuAD/train-v2.0.json\".<br />\n",
    "Sets the output file path to \"SQuAD/squad-v2.0-addsent.json\".<br />\n",
    "Calls process_squad_file() with these paths."
   ]
  },
  {
   "cell_type": "code",
   "execution_count": 5,
   "id": "69a2e745",
   "metadata": {},
   "outputs": [
    {
     "name": "stderr",
     "output_type": "stream",
     "text": [
      "Processing articles: 100%|████████████████████| 442/442 [00:28<00:00, 15.50it/s]\n"
     ]
    }
   ],
   "source": [
    "# Create data set\n",
    "path = \"SQuAD/\"\n",
    "input_file = os.path.join(path, \"train-v2.0.json\")\n",
    "output_file = os.path.join(path, \"squad-v2.0-addsent.json\")\n",
    "process_squad_file(input_file, output_file)"
   ]
  },
  {
   "cell_type": "code",
   "execution_count": null,
   "id": "ba352179",
   "metadata": {},
   "outputs": [],
   "source": []
  }
 ],
 "metadata": {
  "kernelspec": {
   "display_name": "RobustQA Kernel",
   "language": "python",
   "name": "robustqa-kernel"
  },
  "language_info": {
   "codemirror_mode": {
    "name": "ipython",
    "version": 3
   },
   "file_extension": ".py",
   "mimetype": "text/x-python",
   "name": "python",
   "nbconvert_exporter": "python",
   "pygments_lexer": "ipython3",
   "version": "3.8.15"
  }
 },
 "nbformat": 4,
 "nbformat_minor": 5
}
