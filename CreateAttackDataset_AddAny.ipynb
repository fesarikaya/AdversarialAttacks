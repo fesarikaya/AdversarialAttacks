{
 "cells": [
  {
   "cell_type": "markdown",
   "id": "87dca8f1",
   "metadata": {},
   "source": [
    "The purpose of this notebook is to create an adversarial version of the SQuAD (Stanford Question Answering Dataset) v2.0 dataset using the <b>AddAny</b> attack method. This attack adds arbitrary, unrelated sentences to the end of each context paragraph. The goal is to test the robustness of question-answering models against irrelevant information.<br /><br />\n",
    "\n",
    "By adding these arbitrary sentences, the script creates a more challenging dataset. Question-answering models trained or evaluated on this dataset will need to distinguish between relevant and irrelevant information, potentially exposing weaknesses in their comprehension abilities.<br /><br />\n",
    "\n",
    "This adversarial dataset can be used to\n",
    "<ul>\n",
    "    <li>Evaluate the robustness of existing question-answering models.</li>\n",
    "    <li>Train more robust models that can handle irrelevant information.</li>\n",
    "    <li>Study the impact of added noise on model performance.</li>\n",
    "</ul>\n",
    "\n",
    "The notebook ensures that the original question-answer pairs remain valid by updating their positions in the new, longer contexts. This allows for a direct comparison between model performance on the original and adversarial datasets."
   ]
  },
  {
   "cell_type": "markdown",
   "id": "e0d127c7",
   "metadata": {},
   "source": [
    "### Loading libraries\n",
    "\n",
    "Imports necessary libraries for file handling, JSON processing, random selection, and progress tracking."
   ]
  },
  {
   "cell_type": "code",
   "execution_count": 1,
   "id": "685e6209",
   "metadata": {},
   "outputs": [],
   "source": [
    "import os\n",
    "import json\n",
    "import random\n",
    "import spacy\n",
    "from tqdm import tqdm"
   ]
  },
  {
   "cell_type": "markdown",
   "id": "9656cc37",
   "metadata": {},
   "source": [
    "### SpaCy loading\n",
    "\n",
    "It loads the SpaCy English language model, preferring GPU if available."
   ]
  },
  {
   "cell_type": "code",
   "execution_count": 2,
   "id": "e8d0d515",
   "metadata": {},
   "outputs": [],
   "source": [
    "# Load spaCy model\n",
    "spacy.prefer_gpu()\n",
    "nlp = spacy.load(\"en_core_web_sm\")"
   ]
  },
  {
   "cell_type": "markdown",
   "id": "56ea4aed",
   "metadata": {},
   "source": [
    "### generate_arbitrary_sentence() function\n",
    "\n",
    "Contains a list of 100 pre-defined arbitrary sentences.<br />\n",
    "Randomly selects and returns one of these sentences when called."
   ]
  },
  {
   "cell_type": "code",
   "execution_count": 3,
   "id": "a8f4f02a",
   "metadata": {},
   "outputs": [],
   "source": [
    "def generate_arbitrary_sentence():\n",
    "    arbitrary_sentences = [\n",
    "        \"The weather was unusually warm that day.\",\n",
    "        \"A new study shows that coffee might be good for your health.\",\n",
    "        \"Scientists have discovered a new species of butterfly.\",\n",
    "        \"The local museum is hosting a special exhibition next month.\",\n",
    "        \"Recent advancements in technology have revolutionized communication.\",\n",
    "        \"A group of researchers published a groundbreaking paper last week.\",\n",
    "        \"The city council approved a new urban development plan.\",\n",
    "        \"Experts predict significant changes in the job market over the next decade.\",\n",
    "        \"A rare astronomical event will be visible in the night sky this weekend.\",\n",
    "        \"The national park announced the birth of an endangered species.\",\n",
    "        \"The restaurant introduced a new menu featuring exotic dishes.\",\n",
    "        \"A famous actor announced his retirement from the film industry.\",\n",
    "        \"The university is offering a new course on sustainable energy.\",\n",
    "        \"A historic building in the city center was recently renovated.\",\n",
    "        \"The annual music festival attracted thousands of visitors.\",\n",
    "        \"New research suggests that meditation can improve mental health.\",\n",
    "        \"The government launched a campaign to promote recycling.\",\n",
    "        \"A local artist unveiled a new sculpture in the town square.\",\n",
    "        \"Scientists are exploring the potential of renewable energy sources.\",\n",
    "        \"The community center is organizing free workshops for residents.\",\n",
    "        \"A groundbreaking ceremony was held for the new hospital wing.\",\n",
    "        \"The library extended its hours to accommodate more visitors.\",\n",
    "        \"A new bakery opened downtown, specializing in gluten-free pastries.\",\n",
    "        \"The zoo welcomed a pair of rare pandas from China.\",\n",
    "        \"An ancient manuscript was discovered in a remote monastery.\",\n",
    "        \"The local theater is staging a production of Shakespeare's Hamlet.\",\n",
    "        \"A tech company unveiled its latest smartphone model.\",\n",
    "        \"Volunteers cleaned up the beach as part of an environmental initiative.\",\n",
    "        \"A record-breaking heatwave hit the region last summer.\",\n",
    "        \"A charity event raised funds for children's education.\",\n",
    "        \"The city hosted an international conference on climate change.\",\n",
    "        \"A famous chef published a cookbook filled with healthy recipes.\",\n",
    "        \"The high school celebrated its centennial anniversary.\",\n",
    "        \"A new bike-sharing program was launched in the city.\",\n",
    "        \"The botanical garden is hosting a series of gardening workshops.\",\n",
    "        \"A local author released a bestselling novel this month.\",\n",
    "        \"The national museum opened a new exhibit on ancient Egypt.\",\n",
    "        \"A renowned pianist performed at the concert hall last night.\",\n",
    "        \"The wildlife reserve is home to several endangered species.\",\n",
    "        \"A startup developed an app to help people with disabilities.\",\n",
    "        \"The mayor announced plans for a new public transportation system.\",\n",
    "        \"A research team found evidence of water on Mars.\",\n",
    "        \"The sports team won their championship game in an exciting finish.\",\n",
    "        \"A documentary film about climate change received critical acclaim.\",\n",
    "        \"The community garden is flourishing thanks to volunteer efforts.\",\n",
    "        \"An art gallery displayed works by local artists this weekend.\",\n",
    "        \"A historic shipwreck was discovered off the coast.\",\n",
    "        \"The orchestra played a symphony by Beethoven to a full house.\",\n",
    "        \"A medical breakthrough offers new hope for cancer patients.\",\n",
    "        \"The high-speed train service reduced travel time significantly.\",\n",
    "        \"A new law was passed to protect endangered wildlife.\",\n",
    "        \"The festival featured performances by international musicians.\",\n",
    "        \"A children's book was released, inspiring young readers worldwide.\",\n",
    "        \"The local market offers a wide variety of organic produce.\",\n",
    "        \"A new fitness center opened with state-of-the-art equipment.\",\n",
    "        \"The weather forecast predicts heavy snowfall this weekend.\",\n",
    "        \"A unique art installation was set up in the city park.\",\n",
    "        \"The historic district is known for its beautiful architecture.\",\n",
    "        \"A charity organization provided aid to disaster-stricken areas.\",\n",
    "        \"The library hosted a reading event for children.\",\n",
    "        \"A new app helps users track their carbon footprint.\",\n",
    "        \"The film festival showcased independent films from around the world.\",\n",
    "        \"A wildlife photographer captured stunning images of a rare bird.\",\n",
    "        \"The city introduced a new policy to reduce air pollution.\",\n",
    "        \"A culinary school offered classes on international cuisine.\",\n",
    "        \"The marathon attracted runners from various countries.\",\n",
    "        \"A science fair exhibited innovative projects by students.\",\n",
    "        \"The book club discussed a popular novel at their latest meeting.\",\n",
    "        \"A new vaccine was developed to combat a viral outbreak.\",\n",
    "        \"The theater group performed a modern adaptation of a classic play.\",\n",
    "        \"A local band released their debut album to positive reviews.\",\n",
    "        \"The national park is a popular destination for hikers and campers.\",\n",
    "        \"A new technology aims to make solar energy more efficient.\",\n",
    "        \"The charity marathon raised funds for cancer research.\",\n",
    "        \"A famous artist donated a painting to the local museum.\",\n",
    "        \"The farmers' market features fresh produce from local farms.\",\n",
    "        \"A science experiment revealed surprising results about plant growth.\",\n",
    "        \"The community center offers after-school programs for children.\",\n",
    "        \"A new species of fish was discovered in the deep sea.\",\n",
    "        \"The hiking trail offers breathtaking views of the mountains.\",\n",
    "        \"A robotics competition challenged students to design innovative robots.\",\n",
    "        \"The town square was decorated for the holiday season.\",\n",
    "        \"A history professor gave a lecture on ancient civilizations.\",\n",
    "        \"The aquarium added a new exhibit featuring marine life from the Arctic.\",\n",
    "        \"A famous author gave a talk at the local bookstore.\",\n",
    "        \"The cycling race covered challenging terrain and scenic routes.\",\n",
    "        \"A local brewery released a new craft beer this month.\",\n",
    "        \"The annual fair featured rides, games, and food stalls.\",\n",
    "        \"A renewable energy project aims to power the entire community.\",\n",
    "        \"The local symphony orchestra played a concert under the stars.\",\n",
    "        \"A wildlife documentary highlighted the plight of endangered species.\"\n",
    "    ]\n",
    "    return random.choice(arbitrary_sentences)\n"
   ]
  },
  {
   "cell_type": "markdown",
   "id": "14503254",
   "metadata": {},
   "source": [
    "### process_squad_file() function\n",
    "\n",
    "This is the main function that processes the SQuAD dataset.<br />\n",
    "It reads the input SQuAD JSON file and creates a new, adversarial version."
   ]
  },
  {
   "cell_type": "code",
   "execution_count": 4,
   "id": "b1aaea86",
   "metadata": {},
   "outputs": [],
   "source": [
    "def process_squad_file(input_file, output_file, num_sentences=1):\n",
    "    with open(input_file, 'r', encoding='utf-8') as f:\n",
    "        data = json.load(f)\n",
    "\n",
    "    new_data = {\"version\": \"v2.0\", \"data\": []}\n",
    "\n",
    "    for article in tqdm(data['data'], desc=\"Processing articles\"):\n",
    "        new_article = {\"title\": article['title'], \"paragraphs\": []}\n",
    "        \n",
    "        for paragraph in article['paragraphs']:\n",
    "            context = paragraph['context']\n",
    "            \n",
    "            # Generate arbitrary sentences\n",
    "            arbitrary_sentences = [generate_arbitrary_sentence() for _ in range(num_sentences)]\n",
    "            \n",
    "            # Create adversarial context\n",
    "            adv_context = context + \" \" + \" \".join(arbitrary_sentences)\n",
    "            \n",
    "            new_qas = []\n",
    "            for qa in paragraph['qas']:\n",
    "                new_qa = qa.copy()\n",
    "                if new_qa['answers']:\n",
    "                    # Update answer start position in the new context\n",
    "                    answer = new_qa['answers'][0]['text']\n",
    "                    answer_start = adv_context.index(answer)\n",
    "                    new_qa['answers'][0]['answer_start'] = answer_start\n",
    "                \n",
    "                new_qas.append(new_qa)\n",
    "            \n",
    "            new_paragraph = {\n",
    "                \"context\": adv_context,\n",
    "                \"qas\": new_qas\n",
    "            }\n",
    "            new_article['paragraphs'].append(new_paragraph)\n",
    "        \n",
    "        new_data['data'].append(new_article)\n",
    "\n",
    "    with open(output_file, 'w', encoding='utf-8') as f:\n",
    "        json.dump(new_data, f, ensure_ascii=False, indent=2)"
   ]
  },
  {
   "cell_type": "markdown",
   "id": "aaf288d3",
   "metadata": {},
   "source": [
    "### Dataset processing\n",
    "\n",
    "Iterates through each article and paragraph in the original dataset.<br />\n",
    "For each paragraph:\n",
    "<ul>\n",
    "    <li>Generates num_sentences arbitrary sentences using generate_arbitrary_sentence().</li>\n",
    "    <li>Appends these sentences to the original context, creating an adversarial context.</li>\n",
    "    <li>Updates the answer start positions for all QA pairs in the paragraph to reflect their new positions in the adversarial context.</li>\n",
    "</ul>\n",
    "\n",
    "### Output generation:\n",
    "Creates a new JSON structure with the modified data.<br />\n",
    "Writes this new structure to the output file."
   ]
  },
  {
   "cell_type": "code",
   "execution_count": 5,
   "id": "105ff4c8",
   "metadata": {},
   "outputs": [
    {
     "name": "stderr",
     "output_type": "stream",
     "text": [
      "Processing articles: 100%|██████████████████| 442/442 [00:00<00:00, 1513.45it/s]\n"
     ]
    }
   ],
   "source": [
    "# Create data set\n",
    "path = \"SQuAD/\"\n",
    "input_file = os.path.join(path, \"train-v2.0.json\")\n",
    "output_file = os.path.join(path, \"squad-v2.0-addany.json\")\n",
    "process_squad_file(input_file, output_file, num_sentences=2)"
   ]
  },
  {
   "cell_type": "code",
   "execution_count": null,
   "id": "ddd1698a",
   "metadata": {},
   "outputs": [],
   "source": []
  }
 ],
 "metadata": {
  "kernelspec": {
   "display_name": "RobustQA Kernel",
   "language": "python",
   "name": "robustqa-kernel"
  },
  "language_info": {
   "codemirror_mode": {
    "name": "ipython",
    "version": 3
   },
   "file_extension": ".py",
   "mimetype": "text/x-python",
   "name": "python",
   "nbconvert_exporter": "python",
   "pygments_lexer": "ipython3",
   "version": "3.8.15"
  }
 },
 "nbformat": 4,
 "nbformat_minor": 5
}
